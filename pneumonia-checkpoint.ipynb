{
 "cells": [
  {
   "cell_type": "code",
   "execution_count": 1,
   "id": "86a548d7",
   "metadata": {},
   "outputs": [
    {
     "ename": "ModuleNotFoundError",
     "evalue": "No module named 'tensorflow'",
     "output_type": "error",
     "traceback": [
      "\u001b[1;31m---------------------------------------------------------------------------\u001b[0m",
      "\u001b[1;31mModuleNotFoundError\u001b[0m                       Traceback (most recent call last)",
      "\u001b[1;32m~\\AppData\\Local\\Temp\\ipykernel_9584\\2548212002.py\u001b[0m in \u001b[0;36m<module>\u001b[1;34m\u001b[0m\n\u001b[0;32m      2\u001b[0m \u001b[1;32mimport\u001b[0m \u001b[0mmatplotlib\u001b[0m\u001b[1;33m.\u001b[0m\u001b[0mpyplot\u001b[0m \u001b[1;32mas\u001b[0m \u001b[0mplt\u001b[0m\u001b[1;33m\u001b[0m\u001b[1;33m\u001b[0m\u001b[0m\n\u001b[0;32m      3\u001b[0m \u001b[0mget_ipython\u001b[0m\u001b[1;33m(\u001b[0m\u001b[1;33m)\u001b[0m\u001b[1;33m.\u001b[0m\u001b[0mrun_line_magic\u001b[0m\u001b[1;33m(\u001b[0m\u001b[1;34m'matplotlib'\u001b[0m\u001b[1;33m,\u001b[0m \u001b[1;34m'inline'\u001b[0m\u001b[1;33m)\u001b[0m\u001b[1;33m\u001b[0m\u001b[1;33m\u001b[0m\u001b[0m\n\u001b[1;32m----> 4\u001b[1;33m \u001b[1;32mfrom\u001b[0m \u001b[0mtensorflow\u001b[0m\u001b[1;33m.\u001b[0m\u001b[0mkeras\u001b[0m\u001b[1;33m.\u001b[0m\u001b[0mlayers\u001b[0m \u001b[1;32mimport\u001b[0m \u001b[0mInput\u001b[0m\u001b[1;33m,\u001b[0m\u001b[0mConv2D\u001b[0m\u001b[1;33m,\u001b[0m\u001b[0mMaxPooling2D\u001b[0m\u001b[1;33m,\u001b[0m\u001b[0mDropout\u001b[0m\u001b[1;33m,\u001b[0m\u001b[0mFlatten\u001b[0m\u001b[1;33m,\u001b[0m\u001b[0mDense\u001b[0m\u001b[1;33m,\u001b[0m\u001b[0mActivation\u001b[0m\u001b[1;33m,\u001b[0m\u001b[0mBatchNormalization\u001b[0m\u001b[1;33m,\u001b[0m\u001b[0madd\u001b[0m\u001b[1;33m\u001b[0m\u001b[1;33m\u001b[0m\u001b[0m\n\u001b[0m\u001b[0;32m      5\u001b[0m \u001b[1;32mfrom\u001b[0m \u001b[0mtensorflow\u001b[0m\u001b[1;33m.\u001b[0m\u001b[0mkeras\u001b[0m\u001b[1;33m.\u001b[0m\u001b[0mmodels\u001b[0m  \u001b[1;32mimport\u001b[0m \u001b[0mModel\u001b[0m\u001b[1;33m,\u001b[0m\u001b[0mSequential\u001b[0m\u001b[1;33m\u001b[0m\u001b[1;33m\u001b[0m\u001b[0m\n\u001b[0;32m      6\u001b[0m \u001b[1;32mfrom\u001b[0m \u001b[0mtensorflow\u001b[0m\u001b[1;33m.\u001b[0m\u001b[0mkeras\u001b[0m\u001b[1;33m.\u001b[0m\u001b[0mpreprocessing\u001b[0m\u001b[1;33m.\u001b[0m\u001b[0mimage\u001b[0m \u001b[1;32mimport\u001b[0m \u001b[0mImageDataGenerator\u001b[0m\u001b[1;33m\u001b[0m\u001b[1;33m\u001b[0m\u001b[0m\n",
      "\u001b[1;31mModuleNotFoundError\u001b[0m: No module named 'tensorflow'"
     ]
    }
   ],
   "source": [
    "import numpy as np\n",
    "import matplotlib.pyplot as plt\n",
    "%matplotlib inline\n",
    "from tensorflow.keras.layers import Input,Conv2D,MaxPooling2D,Dropout,Flatten,Dense,Activation,BatchNormalization,add\n",
    "from tensorflow.keras.models  import Model,Sequential\n",
    "from tensorflow.keras.preprocessing.image import ImageDataGenerator\n",
    "from tensorflow.keras.utils import plot_model\n",
    "from tensorflow.keras.applications.vgg16 import VGG16,preprocess_input\n",
    "import os"
   ]
  },
  {
   "cell_type": "code",
   "execution_count": 3,
   "id": "9a3b9b99",
   "metadata": {},
   "outputs": [
    {
     "name": "stdout",
     "output_type": "stream",
     "text": [
      "Model: \"model\"\n",
      "_________________________________________________________________\n",
      "Layer (type)                 Output Shape              Param #   \n",
      "=================================================================\n",
      "input_1 (InputLayer)         [(None, 224, 224, 3)]     0         \n",
      "_________________________________________________________________\n",
      "block1_conv1 (Conv2D)        (None, 224, 224, 64)      1792      \n",
      "_________________________________________________________________\n",
      "block1_conv2 (Conv2D)        (None, 224, 224, 64)      36928     \n",
      "_________________________________________________________________\n",
      "block1_pool (MaxPooling2D)   (None, 112, 112, 64)      0         \n",
      "_________________________________________________________________\n",
      "block2_conv1 (Conv2D)        (None, 112, 112, 128)     73856     \n",
      "_________________________________________________________________\n",
      "block2_conv2 (Conv2D)        (None, 112, 112, 128)     147584    \n",
      "_________________________________________________________________\n",
      "block2_pool (MaxPooling2D)   (None, 56, 56, 128)       0         \n",
      "_________________________________________________________________\n",
      "block3_conv1 (Conv2D)        (None, 56, 56, 256)       295168    \n",
      "_________________________________________________________________\n",
      "block3_conv2 (Conv2D)        (None, 56, 56, 256)       590080    \n",
      "_________________________________________________________________\n",
      "block3_conv3 (Conv2D)        (None, 56, 56, 256)       590080    \n",
      "_________________________________________________________________\n",
      "block3_pool (MaxPooling2D)   (None, 28, 28, 256)       0         \n",
      "_________________________________________________________________\n",
      "block4_conv1 (Conv2D)        (None, 28, 28, 512)       1180160   \n",
      "_________________________________________________________________\n",
      "block4_conv2 (Conv2D)        (None, 28, 28, 512)       2359808   \n",
      "_________________________________________________________________\n",
      "block4_conv3 (Conv2D)        (None, 28, 28, 512)       2359808   \n",
      "_________________________________________________________________\n",
      "block4_pool (MaxPooling2D)   (None, 14, 14, 512)       0         \n",
      "_________________________________________________________________\n",
      "block5_conv1 (Conv2D)        (None, 14, 14, 512)       2359808   \n",
      "_________________________________________________________________\n",
      "block5_conv2 (Conv2D)        (None, 14, 14, 512)       2359808   \n",
      "_________________________________________________________________\n",
      "block5_conv3 (Conv2D)        (None, 14, 14, 512)       2359808   \n",
      "_________________________________________________________________\n",
      "block5_pool (MaxPooling2D)   (None, 7, 7, 512)         0         \n",
      "_________________________________________________________________\n",
      "flatten (Flatten)            (None, 25088)             0         \n",
      "_________________________________________________________________\n",
      "dense (Dense)                (None, 2)                 50178     \n",
      "=================================================================\n",
      "Total params: 14,764,866\n",
      "Trainable params: 50,178\n",
      "Non-trainable params: 14,714,688\n",
      "_________________________________________________________________\n"
     ]
    }
   ],
   "source": [
    "# Initializing VGG16 model\n",
    "vgg = VGG16(weights= 'imagenet', include_top = False, input_shape = (224,224,3))\n",
    "# include_top = False (loads full model without LAST fully connected layers) \n",
    "\n",
    "\n",
    "for layer in vgg.layers:\n",
    "    layer.trainable = False #making all the layers non-trainable\n",
    "    \n",
    "    \n",
    "# Flattening out the last layer    \n",
    "x = Flatten()(vgg.output)\n",
    "\n",
    "\n",
    "# Adding a dense layer\n",
    "# To determine if the person is Healthy of Pneumonitic\n",
    "predictions = Dense(2,activation='softmax')(x) \n",
    "\n",
    "\n",
    "model = Model(inputs=vgg.input, outputs=predictions)\n",
    "model.summary()"
   ]
  },
  {
   "cell_type": "code",
   "execution_count": 4,
   "id": "9826a20a",
   "metadata": {},
   "outputs": [],
   "source": [
    "# Getting current directory\n",
    "base_dir = os.getcwd() \n",
    "\n",
    "# Defining the input shape\n",
    "target_shape = (224,224) \n",
    "\n",
    "train_dir = base_dir+\"\\\\chest_xray\\\\train\" # \n",
    "val_dir = base_dir+\"\\\\chest_xray\\\\val\"     # -- Directories for data\n",
    "test_dir = base_dir+\"\\\\chest_xray\\\\test\"   # "
   ]
  },
  {
   "cell_type": "code",
   "execution_count": 5,
   "id": "cb5ae595",
   "metadata": {},
   "outputs": [],
   "source": [
    "vgg = VGG16(weights= 'imagenet', include_top = False, input_shape = (224,224,3))\n",
    "for layer in vgg.layers:\n",
    "    layer.trainable = False # Making all the layers non-trainable"
   ]
  },
  {
   "cell_type": "code",
   "execution_count": 6,
   "id": "b136113e",
   "metadata": {},
   "outputs": [
    {
     "name": "stdout",
     "output_type": "stream",
     "text": [
      "Model: \"model_1\"\n",
      "_________________________________________________________________\n",
      "Layer (type)                 Output Shape              Param #   \n",
      "=================================================================\n",
      "input_2 (InputLayer)         [(None, 224, 224, 3)]     0         \n",
      "_________________________________________________________________\n",
      "block1_conv1 (Conv2D)        (None, 224, 224, 64)      1792      \n",
      "_________________________________________________________________\n",
      "block1_conv2 (Conv2D)        (None, 224, 224, 64)      36928     \n",
      "_________________________________________________________________\n",
      "block1_pool (MaxPooling2D)   (None, 112, 112, 64)      0         \n",
      "_________________________________________________________________\n",
      "block2_conv1 (Conv2D)        (None, 112, 112, 128)     73856     \n",
      "_________________________________________________________________\n",
      "block2_conv2 (Conv2D)        (None, 112, 112, 128)     147584    \n",
      "_________________________________________________________________\n",
      "block2_pool (MaxPooling2D)   (None, 56, 56, 128)       0         \n",
      "_________________________________________________________________\n",
      "block3_conv1 (Conv2D)        (None, 56, 56, 256)       295168    \n",
      "_________________________________________________________________\n",
      "block3_conv2 (Conv2D)        (None, 56, 56, 256)       590080    \n",
      "_________________________________________________________________\n",
      "block3_conv3 (Conv2D)        (None, 56, 56, 256)       590080    \n",
      "_________________________________________________________________\n",
      "block3_pool (MaxPooling2D)   (None, 28, 28, 256)       0         \n",
      "_________________________________________________________________\n",
      "block4_conv1 (Conv2D)        (None, 28, 28, 512)       1180160   \n",
      "_________________________________________________________________\n",
      "block4_conv2 (Conv2D)        (None, 28, 28, 512)       2359808   \n",
      "_________________________________________________________________\n",
      "block4_conv3 (Conv2D)        (None, 28, 28, 512)       2359808   \n",
      "_________________________________________________________________\n",
      "block4_pool (MaxPooling2D)   (None, 14, 14, 512)       0         \n",
      "_________________________________________________________________\n",
      "block5_conv1 (Conv2D)        (None, 14, 14, 512)       2359808   \n",
      "_________________________________________________________________\n",
      "block5_conv2 (Conv2D)        (None, 14, 14, 512)       2359808   \n",
      "_________________________________________________________________\n",
      "block5_conv3 (Conv2D)        (None, 14, 14, 512)       2359808   \n",
      "_________________________________________________________________\n",
      "block5_pool (MaxPooling2D)   (None, 7, 7, 512)         0         \n",
      "_________________________________________________________________\n",
      "flatten_1 (Flatten)          (None, 25088)             0         \n",
      "_________________________________________________________________\n",
      "dense_1 (Dense)              (None, 2)                 50178     \n",
      "=================================================================\n",
      "Total params: 14,764,866\n",
      "Trainable params: 50,178\n",
      "Non-trainable params: 14,714,688\n",
      "_________________________________________________________________\n"
     ]
    }
   ],
   "source": [
    "# Flattening out the last layer\n",
    "\n",
    "x = Flatten()(vgg.output) \n",
    "predictions = Dense(2,activation='softmax')(x) #Dense layer to predict wether their is pneumonia or not\n",
    "model = Model(inputs=vgg.input, outputs=predictions)\n",
    "model.summary()"
   ]
  },
  {
   "cell_type": "code",
   "execution_count": 7,
   "id": "00b5f5be",
   "metadata": {},
   "outputs": [
    {
     "name": "stdout",
     "output_type": "stream",
     "text": [
      "Found 5216 images belonging to 2 classes.\n",
      "Found 624 images belonging to 2 classes.\n"
     ]
    }
   ],
   "source": [
    "# Making the data loader for training data\n",
    "train_gen = ImageDataGenerator(rescale=1/255.0,\n",
    "                               horizontal_flip=True,\n",
    "                               zoom_range=0.2,\n",
    "                               shear_range=0.2) \n",
    "\n",
    "\n",
    "# Making the data loader for validation data\n",
    "test_gen = ImageDataGenerator(rescale=1/255.0) \n",
    "\n",
    "\n",
    "# Function to make iterable object for training\n",
    "train_data_gen = train_gen.flow_from_directory(train_dir,\n",
    "                                               target_shape,\n",
    "                                               batch_size=16,\n",
    "                                               class_mode='categorical') \n",
    "\n",
    "# Function to make iterable object for training\n",
    "test_data_gen = train_gen.flow_from_directory(test_dir,\n",
    "                                               target_shape,\n",
    "                                               batch_size=16,\n",
    "                                               class_mode='categorical') "
   ]
  },
  {
   "cell_type": "code",
   "execution_count": 8,
   "id": "af95d5b3",
   "metadata": {},
   "outputs": [
    {
     "name": "stderr",
     "output_type": "stream",
     "text": [
      "C:\\Users\\SRINIDHI\\anaconda3\\lib\\site-packages\\keras\\engine\\training.py:1972: UserWarning: `Model.fit_generator` is deprecated and will be removed in a future version. Please use `Model.fit`, which supports generators.\n",
      "  warnings.warn('`Model.fit_generator` is deprecated and '\n"
     ]
    },
    {
     "name": "stdout",
     "output_type": "stream",
     "text": [
      "Epoch 1/20\n",
      "20/20 [==============================] - 52s 3s/step - loss: 0.7715 - accuracy: 0.7656 - val_loss: 1.1754 - val_accuracy: 0.6812\n",
      "Epoch 2/20\n",
      "20/20 [==============================] - 57s 3s/step - loss: 0.3048 - accuracy: 0.8844 - val_loss: 0.3030 - val_accuracy: 0.8750\n",
      "Epoch 3/20\n",
      "20/20 [==============================] - 58s 3s/step - loss: 0.2279 - accuracy: 0.9219 - val_loss: 0.7394 - val_accuracy: 0.7563\n",
      "Epoch 4/20\n",
      "20/20 [==============================] - 58s 3s/step - loss: 0.1395 - accuracy: 0.9469 - val_loss: 0.7348 - val_accuracy: 0.7063\n",
      "Epoch 5/20\n",
      "20/20 [==============================] - 59s 3s/step - loss: 0.1790 - accuracy: 0.9094 - val_loss: 0.2988 - val_accuracy: 0.8813\n",
      "Epoch 6/20\n",
      "20/20 [==============================] - 57s 3s/step - loss: 0.1265 - accuracy: 0.9469 - val_loss: 0.3434 - val_accuracy: 0.8750\n",
      "Epoch 7/20\n",
      "20/20 [==============================] - 58s 3s/step - loss: 0.1293 - accuracy: 0.9344 - val_loss: 0.7719 - val_accuracy: 0.7563\n",
      "Epoch 8/20\n",
      "20/20 [==============================] - 59s 3s/step - loss: 0.2021 - accuracy: 0.9250 - val_loss: 0.2635 - val_accuracy: 0.8813\n",
      "Epoch 9/20\n",
      "20/20 [==============================] - 58s 3s/step - loss: 0.1841 - accuracy: 0.9187 - val_loss: 0.4429 - val_accuracy: 0.8500\n",
      "Epoch 10/20\n",
      "20/20 [==============================] - 59s 3s/step - loss: 0.1895 - accuracy: 0.9281 - val_loss: 0.2188 - val_accuracy: 0.9125\n",
      "Epoch 11/20\n",
      "20/20 [==============================] - 61s 3s/step - loss: 0.1929 - accuracy: 0.9312 - val_loss: 0.4101 - val_accuracy: 0.8562\n",
      "Epoch 12/20\n",
      "20/20 [==============================] - 61s 3s/step - loss: 0.0883 - accuracy: 0.9688 - val_loss: 0.4268 - val_accuracy: 0.8687\n",
      "Epoch 13/20\n",
      "20/20 [==============================] - 63s 3s/step - loss: 0.0693 - accuracy: 0.9719 - val_loss: 0.5776 - val_accuracy: 0.8438\n",
      "Epoch 14/20\n",
      "20/20 [==============================] - 62s 3s/step - loss: 0.1218 - accuracy: 0.9594 - val_loss: 0.4277 - val_accuracy: 0.8813\n",
      "Epoch 15/20\n",
      "20/20 [==============================] - 63s 3s/step - loss: 0.1073 - accuracy: 0.9625 - val_loss: 0.3705 - val_accuracy: 0.8500\n",
      "Epoch 16/20\n",
      "20/20 [==============================] - 64s 3s/step - loss: 0.1264 - accuracy: 0.9438 - val_loss: 0.3846 - val_accuracy: 0.8813\n",
      "Epoch 17/20\n",
      "20/20 [==============================] - 68s 3s/step - loss: 0.1237 - accuracy: 0.9469 - val_loss: 0.4543 - val_accuracy: 0.8687\n",
      "Epoch 18/20\n",
      "20/20 [==============================] - 65s 3s/step - loss: 0.1113 - accuracy: 0.9625 - val_loss: 0.8999 - val_accuracy: 0.7563\n",
      "Epoch 19/20\n",
      "20/20 [==============================] - 66s 3s/step - loss: 0.2584 - accuracy: 0.9062 - val_loss: 0.4512 - val_accuracy: 0.8062\n",
      "Epoch 20/20\n",
      "20/20 [==============================] - 67s 3s/step - loss: 0.3263 - accuracy: 0.8813 - val_loss: 1.9398 - val_accuracy: 0.6062\n"
     ]
    }
   ],
   "source": [
    "model.compile(loss='categorical_crossentropy',optimizer='adam',metrics=['accuracy'])\n",
    "hist = model.fit_generator(train_data_gen,\n",
    "        steps_per_epoch=20,\n",
    "        epochs=20,\n",
    "        validation_data=test_data_gen,\n",
    "        validation_steps=10)"
   ]
  },
  {
   "cell_type": "code",
   "execution_count": 9,
   "id": "eb70e9d1",
   "metadata": {},
   "outputs": [
    {
     "data": {
      "image/png": "[encoded data removed]",
      "text/plain": [
       "<Figure size 432x288 with 1 Axes>"
      ]
     },
     "metadata": {},
     "output_type": "display_data"
    }
   ],
   "source": [
    "plt.style.use(\"ggplot\")\n",
    "plt.figure()\n",
    "plt.plot(hist.history[\"loss\"], label=\"train_loss\")\n",
    "plt.plot(hist.history[\"val_loss\"], label=\"val_loss\")\n",
    "plt.plot(hist.history[\"accuracy\"], label=\"train_acc\")\n",
    "plt.plot(hist.history[\"val_accuracy\"], label=\"val_acc\")\n",
    "plt.title(\"Model Training\")\n",
    "plt.xlabel(\"Epoch #\")\n",
    "plt.ylabel(\"Loss/Accuracy\")\n",
    "plt.legend()\n",
    "plt.savefig(\"epochs.png\")"
   ]
  },
  {
   "cell_type": "code",
   "execution_count": 12,
   "id": "b317e5fd",
   "metadata": {},
   "outputs": [],
   "source": [
    "# model.save('model.h5')"
   ]
  },
  {
   "cell_type": "code",
   "execution_count": null,
   "id": "3c992be7",
   "metadata": {},
   "outputs": [],
   "source": []
  }
 ],
 "metadata": {
  "kernelspec": {
   "display_name": "Python 3 (ipykernel)",
   "language": "python",
   "name": "python3"
  },
  "language_info": {
   "codemirror_mode": {
    "name": "ipython",
    "version": 3
   },
   "file_extension": ".py",
   "mimetype": "text/x-python",
   "name": "python",
   "nbconvert_exporter": "python",
   "pygments_lexer": "ipython3",
   "version": "3.9.13"
  }
 },
 "nbformat": 4,
 "nbformat_minor": 5
}
